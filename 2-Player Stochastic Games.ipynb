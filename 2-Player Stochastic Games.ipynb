{
 "cells": [
  {
   "cell_type": "code",
   "execution_count": 1,
   "metadata": {
    "Collapsed": "false",
    "execution": {
     "iopub.execute_input": "2020-08-14T15:38:56.145526Z",
     "iopub.status.busy": "2020-08-14T15:38:56.144529Z",
     "iopub.status.idle": "2020-08-14T15:38:56.889361Z",
     "shell.execute_reply": "2020-08-14T15:38:56.889361Z",
     "shell.execute_reply.started": "2020-08-14T15:38:56.145526Z"
    }
   },
   "outputs": [
    {
     "name": "stdout",
     "output_type": "stream",
     "text": [
      "Number of Omega-automaton states (including the trap state): 3\n"
     ]
    },
    {
     "data": {
      "text/plain": [
       "<csrl.oa.OmegaAutomaton at 0x7fa2702ee160>"
      ]
     },
     "metadata": {},
     "output_type": "display_data"
    },
    {
     "data": {
      "image/png": "[encoded data removed]",
      "text/plain": [
       "<Figure size 432x432 with 1 Axes>"
      ]
     },
     "metadata": {
      "needs_background": "light"
     },
     "output_type": "display_data"
    }
   ],
   "source": [
    "%matplotlib inline\n",
    "from csrl.mdp import GridMDP\n",
    "from csrl.oa import OmegaAutomaton\n",
    "from csrl import ControlSynthesis\n",
    "import numpy as np\n",
    "\n",
    "# Specification\n",
    "ltl = 'F G a & G !b'\n",
    "oa = OmegaAutomaton(ltl,oa_type='dra')\n",
    "print('Number of Omega-automaton states (including the trap state):',oa.shape[1])\n",
    "display(oa)\n",
    "\n",
    "# MDP Description\n",
    "shape = (5,5)\n",
    "# E: Empty, T: Trap, B: Obstacle\n",
    "structure = np.array([\n",
    "    ['E',  'E',  'T',  'E',  'E'],\n",
    "    ['E',  'E',  'E',  'E',  'E'],\n",
    "    ['T',  'B',  'T',  'E',  'E'],\n",
    "    ['E',  'E',  'E',  'E',  'E'],\n",
    "    ['E',  'E',  'T',  'E',  'E']\n",
    "])\n",
    "\n",
    "label = np.array([\n",
    "    [(),        (),        (),        ('a',),        ('a',)],\n",
    "    [(),        (),        (),        ('a',),        ('a',)],\n",
    "    [('a',),    (),        (),        ('a',),        ('a',)],\n",
    "    [(),        (),        (),        ('a',),        ('a',)],\n",
    "    [(),        (),        (),        ('a',),        ('a',)],\n",
    "],dtype=np.object)\n",
    "\n",
    "# discount = 0.999999\n",
    "# discountB = 0.9999\n",
    "# discountB = 0.99\n",
    "reward = np.zeros(shape)\n",
    "\n",
    "grid_mdp = GridMDP(shape=shape,structure=structure,reward=reward,label=label,figsize=6,second_agent=('b',))  # Use figsize=4 for smaller figures\n",
    "grid_mdp.plot()\n",
    "\n",
    "# Construct the product MDP\n",
    "csrl = ControlSynthesis(grid_mdp,oa)"
   ]
  },
  {
   "cell_type": "code",
   "execution_count": 2,
   "metadata": {
    "Collapsed": "false",
    "execution": {
     "iopub.execute_input": "2020-08-14T15:39:00.601035Z",
     "iopub.status.busy": "2020-08-14T15:39:00.600037Z",
     "iopub.status.idle": "2020-08-14T15:39:00.606021Z",
     "shell.execute_reply": "2020-08-14T15:39:00.606021Z",
     "shell.execute_reply.started": "2020-08-14T15:39:00.601035Z"
    }
   },
   "outputs": [
    {
     "data": {
      "text/plain": [
       "{'oa_type': 'dra',\n",
       " 'q0': 0,\n",
       " 'delta': [{(): 0, ('a',): 0, ('b',): 1, ('a', 'b'): 1},\n",
       "  {(): 1, ('a',): 1, ('b',): 1, ('a', 'b'): 1},\n",
       "  {(): 2, ('a',): 2, ('b',): 2, ('a', 'b'): 2}],\n",
       " 'acc': [{(): [False], ('a',): [True], ('b',): [None], ('a', 'b'): [None]},\n",
       "  {(): [None], ('a',): [None], ('b',): [None], ('a', 'b'): [None]},\n",
       "  {(): [None], ('a',): [None], ('b',): [None], ('a', 'b'): [None]}],\n",
       " 'shape': (1, 3),\n",
       " 'spot_oa': None,\n",
       " 'eps': [[], [], []]}"
      ]
     },
     "execution_count": 2,
     "metadata": {},
     "output_type": "execute_result"
    }
   ],
   "source": [
    "oa.__dict__"
   ]
  },
  {
   "cell_type": "code",
   "execution_count": 18,
   "metadata": {
    "Collapsed": "false",
    "execution": {
     "iopub.execute_input": "2020-08-14T15:32:54.356970Z",
     "iopub.status.busy": "2020-08-14T15:32:54.356970Z"
    }
   },
   "outputs": [],
   "source": [
    "# Q,Q_=csrl.minimax_q(T=2**5,K=2**10,start=(0,4),start_=(4,0))\n",
    "Q,Q_ = np.load('Q,Q_.npy')"
   ]
  },
  {
   "cell_type": "code",
   "execution_count": 19,
   "metadata": {
    "Collapsed": "false"
   },
   "outputs": [
    {
     "data": {
      "application/vnd.jupyter.widget-view+json": {
       "model_id": "79edc1cd31034e9a9c9d363a21ace92f",
       "version_major": 2,
       "version_minor": 0
      },
      "text/plain": [
       "interactive(children=(IntSlider(value=0, description='i', max=0), IntSlider(value=0, description='q', max=2), …"
      ]
     },
     "metadata": {},
     "output_type": "display_data"
    }
   ],
   "source": [
    "policy = np.argmax(Q,axis=-1)\n",
    "policy_ = np.argmin(Q_,axis=-1)\n",
    "value = np.max(Q,axis=-1)\n",
    "csrl.plot(policy=policy,policy_=policy_)"
   ]
  },
  {
   "cell_type": "code",
   "execution_count": 20,
   "metadata": {
    "Collapsed": "false"
   },
   "outputs": [
    {
     "data": {
      "application/vnd.jupyter.widget-view+json": {
       "model_id": "8d2fa52e926b4cd9aa0a9979a68d276e",
       "version_major": 2,
       "version_minor": 0
      },
      "text/plain": [
       "interactive(children=(IntSlider(value=0, description='t', max=999), Output()), _dom_classes=('widget-interact'…"
      ]
     },
     "metadata": {},
     "output_type": "display_data"
    }
   ],
   "source": [
    "episode=csrl.simulate(policy,policy_,start=(0,4),start_=(4,0),T=1000,plot=True)"
   ]
  },
  {
   "cell_type": "code",
   "execution_count": 6,
   "metadata": {
    "Collapsed": "false"
   },
   "outputs": [],
   "source": [
    "# np.save('Q,Q_',(Q,Q_))"
   ]
  }
 ],
 "metadata": {
  "kernelspec": {
   "display_name": "Python (myenv)",
   "language": "python",
   "name": "myenv"
  },
  "language_info": {
   "codemirror_mode": {
    "name": "ipython",
    "version": 3
   },
   "file_extension": ".py",
   "mimetype": "text/x-python",
   "name": "python",
   "nbconvert_exporter": "python",
   "pygments_lexer": "ipython3",
   "version": "3.8.5"
  },
  "widgets": {
   "application/vnd.jupyter.widget-state+json": {
    "state": {},
    "version_major": 2,
    "version_minor": 0
   }
  }
 },
 "nbformat": 4,
 "nbformat_minor": 4
}
