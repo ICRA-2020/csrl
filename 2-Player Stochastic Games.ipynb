{
 "cells": [
  {
   "cell_type": "code",
   "execution_count": 1,
   "metadata": {
    "execution": {
     "iopub.execute_input": "2020-08-11T20:14:53.911934Z",
     "iopub.status.busy": "2020-08-11T20:14:53.911934Z",
     "iopub.status.idle": "2020-08-11T20:14:58.898787Z",
     "shell.execute_reply": "2020-08-11T20:14:58.898787Z",
     "shell.execute_reply.started": "2020-08-11T20:14:53.911934Z"
    }
   },
   "outputs": [
    {
     "name": "stdout",
     "output_type": "stream",
     "text": [
      "Number of Omega-automaton states (including the trap state): 3\n"
     ]
    },
    {
     "data": {
      "text/plain": [
       "<csrl.oa.OmegaAutomaton at 0x273408eb880>"
      ]
     },
     "metadata": {},
     "output_type": "display_data"
    },
    {
     "data": {
      "image/png": "[encoded data removed]",
      "text/plain": [
       "<Figure size 432x432 with 1 Axes>"
      ]
     },
     "metadata": {
      "needs_background": "light"
     },
     "output_type": "display_data"
    }
   ],
   "source": [
    "%matplotlib inline\n",
    "from csrl.mdp import GridMDP\n",
    "from csrl.oa import OmegaAutomaton\n",
    "from csrl import ControlSynthesis\n",
    "import numpy as np\n",
    "\n",
    "# Specification\n",
    "ltl = 'F G a & G !b'\n",
    "oa = OmegaAutomaton(ltl,oa_type='dra')\n",
    "print('Number of Omega-automaton states (including the trap state):',oa.shape[1])\n",
    "display(oa)\n",
    "\n",
    "# MDP Description\n",
    "shape = (5,5)\n",
    "# E: Empty, T: Trap, B: Obstacle\n",
    "structure = np.array([\n",
    "    ['E',  'E',  'T',  'E',  'E'],\n",
    "    ['E',  'E',  'E',  'E',  'E'],\n",
    "    ['T',  'B',  'T',  'E',  'E'],\n",
    "    ['E',  'E',  'E',  'E',  'E'],\n",
    "    ['E',  'E',  'T',  'E',  'E']\n",
    "])\n",
    "\n",
    "label = np.array([\n",
    "    [(),        (),        (),     ('a',),        ('a',)],\n",
    "    [(),        (),        (),     ('a',),        ('a',)],\n",
    "    [('a',),    (),        (),     ('a',),        ('a',)],\n",
    "    [(),        (),        (),     ('a',),        ('a',)],\n",
    "    [(),        (),        (),     ('a',),        ('a',)],\n",
    "],dtype=np.object)\n",
    "\n",
    "# discount = 0.999999\n",
    "# discountB = 0.9999\n",
    "# discountB = 0.99\n",
    "reward = np.zeros(shape)\n",
    "# reward[3,0] = 1-discountB\n",
    "\n",
    "grid_mdp = GridMDP(shape=shape,structure=structure,reward=reward,label=label,figsize=6,second_agent=('b',))  # Use figsize=4 for smaller figures\n",
    "grid_mdp.plot()\n",
    "# Construct the product MDP\n",
    "csrl = ControlSynthesis(grid_mdp,oa)"
   ]
  },
  {
   "cell_type": "code",
   "execution_count": 2,
   "metadata": {
    "execution": {
     "iopub.execute_input": "2020-08-11T20:14:58.899759Z",
     "iopub.status.busy": "2020-08-11T20:14:58.899759Z",
     "iopub.status.idle": "2020-08-11T20:14:58.905742Z",
     "shell.execute_reply": "2020-08-11T20:14:58.905742Z",
     "shell.execute_reply.started": "2020-08-11T20:14:58.899759Z"
    }
   },
   "outputs": [
    {
     "data": {
      "text/plain": [
       "{'oa_type': 'dra',\n",
       " 'q0': 0,\n",
       " 'delta': [{(): 0, ('a',): 0, ('b',): 1, ('a', 'b'): 1},\n",
       "  {(): 1, ('a',): 1, ('b',): 1, ('a', 'b'): 1},\n",
       "  {(): 2, ('a',): 2, ('b',): 2, ('a', 'b'): 2}],\n",
       " 'acc': [{(): [False], ('a',): [True], ('b',): [None], ('a', 'b'): [None]},\n",
       "  {(): [None], ('a',): [None], ('b',): [None], ('a', 'b'): [None]},\n",
       "  {(): [None], ('a',): [None], ('b',): [None], ('a', 'b'): [None]}],\n",
       " 'shape': (1, 3),\n",
       " 'spot_oa': None,\n",
       " 'eps': [[], [], []]}"
      ]
     },
     "execution_count": 2,
     "metadata": {},
     "output_type": "execute_result"
    }
   ],
   "source": [
    "oa.__dict__"
   ]
  },
  {
   "cell_type": "code",
   "execution_count": 3,
   "metadata": {
    "execution": {
     "iopub.execute_input": "2020-08-11T20:14:58.907737Z",
     "iopub.status.busy": "2020-08-11T20:14:58.907737Z",
     "iopub.status.idle": "2020-08-11T20:53:09.254652Z",
     "shell.execute_reply": "2020-08-11T20:53:09.254652Z",
     "shell.execute_reply.started": "2020-08-11T20:14:58.907737Z"
    }
   },
   "outputs": [],
   "source": [
    "\n",
    "value, stats = csrl.shapley(T=2**15)\n",
    "\n",
    "\n",
    "np.save('2p_value.npy',value)\n",
    "# value = np.load('value2.npy')"
   ]
  },
  {
   "cell_type": "code",
   "execution_count": 4,
   "metadata": {
    "execution": {
     "iopub.execute_input": "2020-08-11T20:53:09.256620Z",
     "iopub.status.busy": "2020-08-11T20:53:09.256620Z",
     "iopub.status.idle": "2020-08-11T20:53:09.260609Z",
     "shell.execute_reply": "2020-08-11T20:53:09.260609Z",
     "shell.execute_reply.started": "2020-08-11T20:53:09.256620Z"
    }
   },
   "outputs": [
    {
     "name": "stdout",
     "output_type": "stream",
     "text": [
      "         487587849 function calls in 224.079 seconds\n",
      "\n",
      "   Ordered by: cumulative time\n",
      "\n",
      "   ncalls  tottime  percall  cumtime  percall filename:lineno(function)\n",
      "328728576  124.568    0.000  124.568    0.000 {built-in method builtins.min}\n",
      "  7667712    6.876    0.000   77.597    0.000 <__array_function__ internals>:2(amax)\n",
      "  7667712    5.370    0.000   69.075    0.000 {built-in method numpy.core._multiarray_umath.implement_array_function}\n",
      "  7667712   11.666    0.000   63.705    0.000 C:\\Users\\alper\\anaconda3\\lib\\site-packages\\numpy\\core\\fromnumeric.py:2551(amax)\n",
      "  7667712   15.010    0.000   52.040    0.000 C:\\Users\\alper\\anaconda3\\lib\\site-packages\\numpy\\core\\fromnumeric.py:73(_wrapreduction)\n",
      "  7667712   29.575    0.000   29.575    0.000 {method 'reduce' of 'numpy.ufunc' objects}\n",
      " 89849857   11.184    0.000   11.184    0.000 {built-in method builtins.len}\n",
      "  7667712   10.730    0.000   10.730    0.000 {built-in method numpy.zeros}\n",
      "  7667712    6.084    0.000    6.084    0.000 C:\\Users\\alper\\anaconda3\\lib\\site-packages\\numpy\\core\\fromnumeric.py:74(<dictcomp>)\n",
      "  7667712    1.645    0.000    1.645    0.000 C:\\Users\\alper\\anaconda3\\lib\\site-packages\\numpy\\core\\fromnumeric.py:2546(_amax_dispatcher)\n",
      "  7667712    1.370    0.000    1.370    0.000 {method 'items' of 'dict' objects}\n",
      "        1    0.000    0.000    0.000    0.000 C:\\Users\\alper\\anaconda3\\lib\\multiprocessing\\shared_memory.py:73(__init__)\n",
      "        1    0.000    0.000    0.000    0.000 {built-in method _winapi.MapViewOfFile}\n",
      "        1    0.000    0.000    0.000    0.000 {built-in method _winapi.OpenFileMapping}\n",
      "        1    0.000    0.000    0.000    0.000 {built-in method _winapi.VirtualQuerySize}\n",
      "        1    0.000    0.000    0.000    0.000 {built-in method _winapi.CloseHandle}\n",
      "        1    0.000    0.000    0.000    0.000 {built-in method numpy.empty}\n",
      "        1    0.000    0.000    0.000    0.000 {method 'disable' of '_lsprof.Profiler' objects}\n",
      "        1    0.000    0.000    0.000    0.000 C:\\Users\\alper\\anaconda3\\lib\\multiprocessing\\shared_memory.py:198(buf)\n",
      "\n",
      "\n",
      "\n"
     ]
    }
   ],
   "source": [
    "print(stats[0])"
   ]
  },
  {
   "cell_type": "code",
   "execution_count": 5,
   "metadata": {
    "execution": {
     "iopub.execute_input": "2020-08-11T20:53:09.261607Z",
     "iopub.status.busy": "2020-08-11T20:53:09.261607Z",
     "iopub.status.idle": "2020-08-11T20:53:10.789722Z",
     "shell.execute_reply": "2020-08-11T20:53:10.789722Z",
     "shell.execute_reply.started": "2020-08-11T20:53:09.261607Z"
    }
   },
   "outputs": [
    {
     "data": {
      "application/vnd.jupyter.widget-view+json": {
       "model_id": "fbfbaccbe4b64a65b6e35d5ddbcc558a",
       "version_major": 2,
       "version_minor": 0
      },
      "text/plain": [
       "interactive(children=(IntSlider(value=0, description='i', max=0), IntSlider(value=0, description='q', max=2), …"
      ]
     },
     "metadata": {},
     "output_type": "display_data"
    }
   ],
   "source": [
    "csrl.plot(value)"
   ]
  },
  {
   "cell_type": "code",
   "execution_count": 6,
   "metadata": {
    "execution": {
     "iopub.execute_input": "2020-08-11T20:53:10.790720Z",
     "iopub.status.busy": "2020-08-11T20:53:10.790720Z",
     "iopub.status.idle": "2020-08-11T20:53:11.747296Z",
     "shell.execute_reply": "2020-08-11T20:53:11.747296Z",
     "shell.execute_reply.started": "2020-08-11T20:53:10.790720Z"
    }
   },
   "outputs": [
    {
     "data": {
      "application/vnd.jupyter.widget-view+json": {
       "model_id": "cb5e42e5ce894a6fb7ee4d3460e63db1",
       "version_major": 2,
       "version_minor": 0
      },
      "text/plain": [
       "interactive(children=(IntSlider(value=0, description='i', max=0), IntSlider(value=0, description='q', max=2), …"
      ]
     },
     "metadata": {},
     "output_type": "display_data"
    }
   ],
   "source": [
    "policy, policy_ = csrl.get_greedy_policies(value)\n",
    "csrl.plot(policy=policy)"
   ]
  },
  {
   "cell_type": "code",
   "execution_count": 7,
   "metadata": {
    "execution": {
     "iopub.execute_input": "2020-08-11T20:53:11.748266Z",
     "iopub.status.busy": "2020-08-11T20:53:11.748266Z",
     "iopub.status.idle": "2020-08-11T20:53:11.752290Z",
     "shell.execute_reply": "2020-08-11T20:53:11.752290Z",
     "shell.execute_reply.started": "2020-08-11T20:53:11.748266Z"
    }
   },
   "outputs": [],
   "source": [
    "np.save('value',value)"
   ]
  }
 ],
 "metadata": {
  "kernelspec": {
   "display_name": "Python 3",
   "language": "python",
   "name": "python3"
  },
  "language_info": {
   "codemirror_mode": {
    "name": "ipython",
    "version": 3
   },
   "file_extension": ".py",
   "mimetype": "text/x-python",
   "name": "python",
   "nbconvert_exporter": "python",
   "pygments_lexer": "ipython3",
   "version": "3.8.3"
  },
  "widgets": {
   "application/vnd.jupyter.widget-state+json": {
    "state": {
     "011b971361144799a8233a593dca6465": {
      "model_module": "@jupyter-widgets/controls",
      "model_module_version": "1.5.0",
      "model_name": "SliderStyleModel",
      "state": {
       "description_width": ""
      }
     },
     "0caba3aa1f4049b3bec32a8e9669a8ef": {
      "model_module": "@jupyter-widgets/controls",
      "model_module_version": "1.5.0",
      "model_name": "SliderStyleModel",
      "state": {
       "description_width": ""
      }
     },
     "1b9c004116704782b81465bd2aef3286": {
      "model_module": "@jupyter-widgets/controls",
      "model_module_version": "1.5.0",
      "model_name": "IntSliderModel",
      "state": {
       "description": "i",
       "layout": "IPY_MODEL_6214ecc7786a4fce97b7a527b4d9d622",
       "max": 0,
       "style": "IPY_MODEL_011b971361144799a8233a593dca6465"
      }
     },
     "1f99ada0f83642b58323a850932779c3": {
      "model_module": "@jupyter-widgets/controls",
      "model_module_version": "1.5.0",
      "model_name": "IntSliderModel",
      "state": {
       "description": "c",
       "layout": "IPY_MODEL_30ac60c26bad441599956c3e95993495",
       "max": 4,
       "style": "IPY_MODEL_e723a236d6644eff9c8522b22c2232c9"
      }
     },
     "2c0f11357921416f9a4557ba268296b2": {
      "model_module": "@jupyter-widgets/base",
      "model_module_version": "1.2.0",
      "model_name": "LayoutModel",
      "state": {}
     },
     "30ac60c26bad441599956c3e95993495": {
      "model_module": "@jupyter-widgets/base",
      "model_module_version": "1.2.0",
      "model_name": "LayoutModel",
      "state": {}
     },
     "3665b05195e9417f8955f60951370cb5": {
      "model_module": "@jupyter-widgets/base",
      "model_module_version": "1.2.0",
      "model_name": "LayoutModel",
      "state": {}
     },
     "4dd8ca39c2a74475a83525e8c2dda7a1": {
      "model_module": "@jupyter-widgets/controls",
      "model_module_version": "1.5.0",
      "model_name": "IntSliderModel",
      "state": {
       "description": "r",
       "layout": "IPY_MODEL_9349ec28a1f44f62b20c17b0fd9992e4",
       "max": 4,
       "style": "IPY_MODEL_5ecfa1576b92482e8981ebf5fb740c09"
      }
     },
     "4eafbf91ec8a4d3c852b0355c450a87b": {
      "model_module": "@jupyter-widgets/base",
      "model_module_version": "1.2.0",
      "model_name": "LayoutModel",
      "state": {}
     },
     "5273f2e3f6d7497d8006ff8a7083ded3": {
      "model_module": "@jupyter-widgets/controls",
      "model_module_version": "1.5.0",
      "model_name": "IntSliderModel",
      "state": {
       "description": "r",
       "layout": "IPY_MODEL_7485b0a54c02495a9f51b06e337ff8d0",
       "max": 4,
       "style": "IPY_MODEL_e09f71b91409448f8e85f6cfefaa7862"
      }
     },
     "53377f9836ff4d6faa1fd7d5d671a689": {
      "model_module": "@jupyter-widgets/output",
      "model_module_version": "1.0.0",
      "model_name": "OutputModel",
      "state": {
       "layout": "IPY_MODEL_c30170369b5d4b2ca3bddaa42cf2c525",
       "outputs": [
        {
         "data": {
          "image/png": "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\n",
          "text/plain": "<Figure size 432x432 with 1 Axes>"
         },
         "metadata": {
          "needs_background": "light"
         },
         "output_type": "display_data"
        }
       ]
      }
     },
     "53b70279934f497a9c40cbe1dc868600": {
      "model_module": "@jupyter-widgets/controls",
      "model_module_version": "1.5.0",
      "model_name": "IntSliderModel",
      "state": {
       "description": "i",
       "layout": "IPY_MODEL_d21ea30b9b82492fb9a27eb899876f0b",
       "max": 0,
       "style": "IPY_MODEL_0caba3aa1f4049b3bec32a8e9669a8ef"
      }
     },
     "5565b2974c5b4d6da1511127a62b3a62": {
      "model_module": "@jupyter-widgets/controls",
      "model_module_version": "1.5.0",
      "model_name": "IntSliderModel",
      "state": {
       "description": "q",
       "layout": "IPY_MODEL_9d454403751242af923ada61656df4d9",
       "max": 2,
       "style": "IPY_MODEL_5e93ee46a2e840b2a029b8f6c1e9e736"
      }
     },
     "5e93ee46a2e840b2a029b8f6c1e9e736": {
      "model_module": "@jupyter-widgets/controls",
      "model_module_version": "1.5.0",
      "model_name": "SliderStyleModel",
      "state": {
       "description_width": ""
      }
     },
     "5ecfa1576b92482e8981ebf5fb740c09": {
      "model_module": "@jupyter-widgets/controls",
      "model_module_version": "1.5.0",
      "model_name": "SliderStyleModel",
      "state": {
       "description_width": ""
      }
     },
     "6214ecc7786a4fce97b7a527b4d9d622": {
      "model_module": "@jupyter-widgets/base",
      "model_module_version": "1.2.0",
      "model_name": "LayoutModel",
      "state": {}
     },
     "6337350d007046fb93b6b1df80b103b9": {
      "model_module": "@jupyter-widgets/controls",
      "model_module_version": "1.5.0",
      "model_name": "IntSliderModel",
      "state": {
       "description": "q",
       "layout": "IPY_MODEL_e11695749ce14c7e8e82d542422db917",
       "max": 2,
       "style": "IPY_MODEL_f58bd47003334fe38dc4935028ac4e1f"
      }
     },
     "7485b0a54c02495a9f51b06e337ff8d0": {
      "model_module": "@jupyter-widgets/base",
      "model_module_version": "1.2.0",
      "model_name": "LayoutModel",
      "state": {}
     },
     "9349ec28a1f44f62b20c17b0fd9992e4": {
      "model_module": "@jupyter-widgets/base",
      "model_module_version": "1.2.0",
      "model_name": "LayoutModel",
      "state": {}
     },
     "9d454403751242af923ada61656df4d9": {
      "model_module": "@jupyter-widgets/base",
      "model_module_version": "1.2.0",
      "model_name": "LayoutModel",
      "state": {}
     },
     "a2ecfc31ee794055b59472682231fa28": {
      "model_module": "@jupyter-widgets/controls",
      "model_module_version": "1.5.0",
      "model_name": "SliderStyleModel",
      "state": {
       "description_width": ""
      }
     },
     "c30170369b5d4b2ca3bddaa42cf2c525": {
      "model_module": "@jupyter-widgets/base",
      "model_module_version": "1.2.0",
      "model_name": "LayoutModel",
      "state": {}
     },
     "cb5e42e5ce894a6fb7ee4d3460e63db1": {
      "model_module": "@jupyter-widgets/controls",
      "model_module_version": "1.5.0",
      "model_name": "VBoxModel",
      "state": {
       "_dom_classes": [
        "widget-interact"
       ],
       "children": [
        "IPY_MODEL_53b70279934f497a9c40cbe1dc868600",
        "IPY_MODEL_5565b2974c5b4d6da1511127a62b3a62",
        "IPY_MODEL_4dd8ca39c2a74475a83525e8c2dda7a1",
        "IPY_MODEL_fad153e2eec3421fb36e0f78d0702465",
        "IPY_MODEL_d4279570aaa14743b2dcf7d31beb90b0"
       ],
       "layout": "IPY_MODEL_e1b1690828644ceb894cc237cec158bf"
      }
     },
     "d21ea30b9b82492fb9a27eb899876f0b": {
      "model_module": "@jupyter-widgets/base",
      "model_module_version": "1.2.0",
      "model_name": "LayoutModel",
      "state": {}
     },
     "d4279570aaa14743b2dcf7d31beb90b0": {
      "model_module": "@jupyter-widgets/output",
      "model_module_version": "1.0.0",
      "model_name": "OutputModel",
      "state": {
       "layout": "IPY_MODEL_3665b05195e9417f8955f60951370cb5",
       "outputs": [
        {
         "data": {
          "image/png": "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\n",
          "text/plain": "<Figure size 432x432 with 1 Axes>"
         },
         "metadata": {
          "needs_background": "light"
         },
         "output_type": "display_data"
        }
       ]
      }
     },
     "e09f71b91409448f8e85f6cfefaa7862": {
      "model_module": "@jupyter-widgets/controls",
      "model_module_version": "1.5.0",
      "model_name": "SliderStyleModel",
      "state": {
       "description_width": ""
      }
     },
     "e11695749ce14c7e8e82d542422db917": {
      "model_module": "@jupyter-widgets/base",
      "model_module_version": "1.2.0",
      "model_name": "LayoutModel",
      "state": {}
     },
     "e1b1690828644ceb894cc237cec158bf": {
      "model_module": "@jupyter-widgets/base",
      "model_module_version": "1.2.0",
      "model_name": "LayoutModel",
      "state": {}
     },
     "e723a236d6644eff9c8522b22c2232c9": {
      "model_module": "@jupyter-widgets/controls",
      "model_module_version": "1.5.0",
      "model_name": "SliderStyleModel",
      "state": {
       "description_width": ""
      }
     },
     "f58bd47003334fe38dc4935028ac4e1f": {
      "model_module": "@jupyter-widgets/controls",
      "model_module_version": "1.5.0",
      "model_name": "SliderStyleModel",
      "state": {
       "description_width": ""
      }
     },
     "fad153e2eec3421fb36e0f78d0702465": {
      "model_module": "@jupyter-widgets/controls",
      "model_module_version": "1.5.0",
      "model_name": "IntSliderModel",
      "state": {
       "description": "c",
       "layout": "IPY_MODEL_4eafbf91ec8a4d3c852b0355c450a87b",
       "max": 4,
       "style": "IPY_MODEL_a2ecfc31ee794055b59472682231fa28"
      }
     },
     "fbfbaccbe4b64a65b6e35d5ddbcc558a": {
      "model_module": "@jupyter-widgets/controls",
      "model_module_version": "1.5.0",
      "model_name": "VBoxModel",
      "state": {
       "_dom_classes": [
        "widget-interact"
       ],
       "children": [
        "IPY_MODEL_1b9c004116704782b81465bd2aef3286",
        "IPY_MODEL_6337350d007046fb93b6b1df80b103b9",
        "IPY_MODEL_5273f2e3f6d7497d8006ff8a7083ded3",
        "IPY_MODEL_1f99ada0f83642b58323a850932779c3",
        "IPY_MODEL_53377f9836ff4d6faa1fd7d5d671a689"
       ],
       "layout": "IPY_MODEL_2c0f11357921416f9a4557ba268296b2"
      }
     }
    },
    "version_major": 2,
    "version_minor": 0
   }
  }
 },
 "nbformat": 4,
 "nbformat_minor": 4
}
