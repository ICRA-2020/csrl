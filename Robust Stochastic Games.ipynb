{
 "cells": [
  {
   "cell_type": "code",
   "execution_count": 1,
   "metadata": {
    "execution": {
     "iopub.execute_input": "2020-08-11T19:48:54.286268Z",
     "iopub.status.busy": "2020-08-11T19:48:54.285270Z",
     "iopub.status.idle": "2020-08-11T19:48:57.983734Z",
     "shell.execute_reply": "2020-08-11T19:48:57.983734Z",
     "shell.execute_reply.started": "2020-08-11T19:48:54.286268Z"
    }
   },
   "outputs": [
    {
     "name": "stdout",
     "output_type": "stream",
     "text": [
      "Number of Omega-automaton states (including the trap state): 2\n"
     ]
    },
    {
     "data": {
      "text/plain": [
       "<csrl.oa.OmegaAutomaton at 0x1cf95612910>"
      ]
     },
     "metadata": {},
     "output_type": "display_data"
    },
    {
     "data": {
      "image/png": "[encoded data removed]",
      "text/plain": [
       "<Figure size 432x432 with 1 Axes>"
      ]
     },
     "metadata": {
      "needs_background": "light"
     },
     "output_type": "display_data"
    }
   ],
   "source": [
    "%matplotlib inline\n",
    "from csrl.mdp import GridMDP\n",
    "from csrl.oa import OmegaAutomaton\n",
    "from csrl import ControlSynthesis\n",
    "import numpy as np\n",
    "\n",
    "ltl = 'F G a'\n",
    "# Translate the LTL formula to an LDBA\n",
    "oa = OmegaAutomaton(ltl,oa_type='dra')\n",
    "print('Number of Omega-automaton states (including the trap state):',oa.shape[1])\n",
    "display(oa)\n",
    "\n",
    "\n",
    "# MDP Description\n",
    "shape = (5,4)\n",
    "# E: Empty, T: Trap, B: Obstacle\n",
    "structure = np.array([\n",
    "    ['E',  'E',  'E',  'E'],\n",
    "    ['E',  'E',  'E',  'T'],\n",
    "    ['B',  'E',  'E',  'E'],\n",
    "    ['E',  'E',  'B',  'E'],\n",
    "    ['B',  'T',  'E',  'E']\n",
    "])\n",
    "\n",
    "label = np.array([\n",
    "    [(),       ('a',),     (),    ()],\n",
    "    [(),       (),     (),    ()],\n",
    "    [(),       (),     (),    ()],\n",
    "    [('a',),   (),     (),    ()],\n",
    "    [(),       (),     (),    ()]\n",
    "],dtype=np.object)\n",
    "\n",
    "# discount = 0.999999\n",
    "# discountB = 0.9999\n",
    "# discountB = 0.99\n",
    "reward = np.zeros(shape)\n",
    "# reward[3,0] = 1-discountB\n",
    "\n",
    "grid_mdp = GridMDP(shape=shape,structure=structure,reward=reward,label=label,figsize=6,robust=True)  # Use figsize=4 for smaller figures\n",
    "grid_mdp.plot()\n",
    "# Construct the product MDP\n",
    "csrl = ControlSynthesis(grid_mdp,oa)"
   ]
  },
  {
   "cell_type": "code",
   "execution_count": 2,
   "metadata": {
    "execution": {
     "iopub.execute_input": "2020-08-11T19:48:57.985729Z",
     "iopub.status.busy": "2020-08-11T19:48:57.984732Z",
     "iopub.status.idle": "2020-08-11T19:48:57.990717Z",
     "shell.execute_reply": "2020-08-11T19:48:57.990717Z",
     "shell.execute_reply.started": "2020-08-11T19:48:57.985729Z"
    }
   },
   "outputs": [
    {
     "data": {
      "text/plain": [
       "{'oa_type': 'dra',\n",
       " 'q0': 0,\n",
       " 'delta': [{(): 0, ('a',): 0}, {(): 1, ('a',): 1}],\n",
       " 'acc': [{(): [False], ('a',): [True]}, {(): [None], ('a',): [None]}],\n",
       " 'shape': (1, 2),\n",
       " 'spot_oa': None,\n",
       " 'eps': [[], []]}"
      ]
     },
     "execution_count": 2,
     "metadata": {},
     "output_type": "execute_result"
    }
   ],
   "source": [
    "oa.__dict__"
   ]
  },
  {
   "cell_type": "code",
   "execution_count": 3,
   "metadata": {
    "execution": {
     "iopub.execute_input": "2020-08-11T19:48:57.992712Z",
     "iopub.status.busy": "2020-08-11T19:48:57.991715Z",
     "iopub.status.idle": "2020-08-11T19:49:57.892497Z",
     "shell.execute_reply": "2020-08-11T19:49:57.892497Z",
     "shell.execute_reply.started": "2020-08-11T19:48:57.992712Z"
    }
   },
   "outputs": [],
   "source": [
    "value,stats = csrl.shapley(T=2**17)"
   ]
  },
  {
   "cell_type": "code",
   "execution_count": 4,
   "metadata": {
    "execution": {
     "iopub.execute_input": "2020-08-11T19:49:57.893469Z",
     "iopub.status.busy": "2020-08-11T19:49:57.893469Z",
     "iopub.status.idle": "2020-08-11T19:49:57.898455Z",
     "shell.execute_reply": "2020-08-11T19:49:57.897457Z",
     "shell.execute_reply.started": "2020-08-11T19:49:57.893469Z"
    }
   },
   "outputs": [
    {
     "name": "stdout",
     "output_type": "stream",
     "text": [
      "         17039369 function calls in 6.146 seconds\n",
      "\n",
      "   Ordered by: cumulative time\n",
      "\n",
      "   ncalls  tottime  percall  cumtime  percall filename:lineno(function)\n",
      " 10485760    3.955    0.000    3.955    0.000 {built-in method builtins.min}\n",
      "  2621440    1.007    0.000    1.007    0.000 {built-in method builtins.max}\n",
      "   655361    0.771    0.000    0.771    0.000 {built-in method numpy.empty}\n",
      "  3276801    0.413    0.000    0.413    0.000 {built-in method builtins.len}\n",
      "        1    0.000    0.000    0.000    0.000 C:\\Users\\alper\\anaconda3\\lib\\multiprocessing\\shared_memory.py:73(__init__)\n",
      "        1    0.000    0.000    0.000    0.000 {built-in method _winapi.OpenFileMapping}\n",
      "        1    0.000    0.000    0.000    0.000 {built-in method _winapi.MapViewOfFile}\n",
      "        1    0.000    0.000    0.000    0.000 {built-in method _winapi.VirtualQuerySize}\n",
      "        1    0.000    0.000    0.000    0.000 {built-in method _winapi.CloseHandle}\n",
      "        1    0.000    0.000    0.000    0.000 {method 'disable' of '_lsprof.Profiler' objects}\n",
      "        1    0.000    0.000    0.000    0.000 C:\\Users\\alper\\anaconda3\\lib\\multiprocessing\\shared_memory.py:198(buf)\n",
      "\n",
      "\n",
      "\n"
     ]
    }
   ],
   "source": [
    "print(stats[0])"
   ]
  },
  {
   "cell_type": "code",
   "execution_count": 5,
   "metadata": {
    "execution": {
     "iopub.execute_input": "2020-08-11T19:49:57.899452Z",
     "iopub.status.busy": "2020-08-11T19:49:57.898455Z",
     "iopub.status.idle": "2020-08-11T19:49:57.913414Z",
     "shell.execute_reply": "2020-08-11T19:49:57.913414Z",
     "shell.execute_reply.started": "2020-08-11T19:49:57.899452Z"
    }
   },
   "outputs": [],
   "source": [
    "# np.save('value2',value)\n",
    "# value = np.load('value2.npy')"
   ]
  },
  {
   "cell_type": "code",
   "execution_count": 6,
   "metadata": {
    "execution": {
     "iopub.execute_input": "2020-08-11T19:49:57.914412Z",
     "iopub.status.busy": "2020-08-11T19:49:57.914412Z",
     "iopub.status.idle": "2020-08-11T19:49:58.107921Z",
     "shell.execute_reply": "2020-08-11T19:49:58.107921Z",
     "shell.execute_reply.started": "2020-08-11T19:49:57.914412Z"
    }
   },
   "outputs": [
    {
     "data": {
      "application/vnd.jupyter.widget-view+json": {
       "model_id": "4164cc0ecdb7464484a1417b58058422",
       "version_major": 2,
       "version_minor": 0
      },
      "text/plain": [
       "interactive(children=(IntSlider(value=0, description='i', max=0), IntSlider(value=0, description='q', max=1), …"
      ]
     },
     "metadata": {},
     "output_type": "display_data"
    }
   ],
   "source": [
    "csrl.plot(value)"
   ]
  },
  {
   "cell_type": "code",
   "execution_count": 7,
   "metadata": {
    "execution": {
     "iopub.execute_input": "2020-08-11T19:49:58.108892Z",
     "iopub.status.busy": "2020-08-11T19:49:58.108892Z",
     "iopub.status.idle": "2020-08-11T19:49:58.122881Z",
     "shell.execute_reply": "2020-08-11T19:49:58.122881Z",
     "shell.execute_reply.started": "2020-08-11T19:49:58.108892Z"
    }
   },
   "outputs": [],
   "source": [
    "policy, policy_ = csrl.get_greedy_policies(value)"
   ]
  },
  {
   "cell_type": "code",
   "execution_count": 8,
   "metadata": {
    "execution": {
     "iopub.execute_input": "2020-08-11T19:49:58.124876Z",
     "iopub.status.busy": "2020-08-11T19:49:58.124876Z",
     "iopub.status.idle": "2020-08-11T19:49:58.293398Z",
     "shell.execute_reply": "2020-08-11T19:49:58.293398Z",
     "shell.execute_reply.started": "2020-08-11T19:49:58.124876Z"
    }
   },
   "outputs": [
    {
     "data": {
      "application/vnd.jupyter.widget-view+json": {
       "model_id": "99061065c801484790efb5b52b6a3fc7",
       "version_major": 2,
       "version_minor": 0
      },
      "text/plain": [
       "interactive(children=(IntSlider(value=0, description='i', max=0), IntSlider(value=0, description='q', max=1), …"
      ]
     },
     "metadata": {},
     "output_type": "display_data"
    }
   ],
   "source": [
    "csrl.plot(policy=policy,policy_=policy_)"
   ]
  },
  {
   "cell_type": "code",
   "execution_count": 9,
   "metadata": {
    "execution": {
     "iopub.execute_input": "2020-08-11T19:49:58.294395Z",
     "iopub.status.busy": "2020-08-11T19:49:58.294395Z",
     "iopub.status.idle": "2020-08-11T19:49:59.207150Z",
     "shell.execute_reply": "2020-08-11T19:49:59.207150Z",
     "shell.execute_reply.started": "2020-08-11T19:49:58.294395Z"
    }
   },
   "outputs": [
    {
     "name": "stdout",
     "output_type": "stream",
     "text": [
      "Number of Omega-automaton states (including the trap state): 3\n"
     ]
    },
    {
     "data": {
      "text/plain": [
       "<csrl.oa.OmegaAutomaton at 0x1cf97e57280>"
      ]
     },
     "metadata": {},
     "output_type": "display_data"
    },
    {
     "data": {
      "image/png": "[encoded data removed]",
      "text/plain": [
       "<Figure size 432x432 with 1 Axes>"
      ]
     },
     "metadata": {
      "needs_background": "light"
     },
     "output_type": "display_data"
    }
   ],
   "source": [
    "# Specification\n",
    "ltl = 'F G s & G F a & G F b'\n",
    "oa = OmegaAutomaton(ltl,oa_type='dra')\n",
    "print('Number of Omega-automaton states (including the trap state):',oa.shape[1])\n",
    "display(oa)\n",
    "\n",
    "# MDP Description\n",
    "shape = (6,5)\n",
    "# E: Empty, T: Trap, B: Obstacle\n",
    "structure = np.array([\n",
    "    ['E',  'E',  'B',  'E',  'E'],\n",
    "    ['E',  'E',  'B',  'E',  'E'],\n",
    "    ['E',  'E',  'E',  'E',  'E'],\n",
    "    ['E',  'E',  'E',  'E',  'E'],\n",
    "    ['E',  'E',  'E',  'E',  'E'],\n",
    "    ['E',  'E',  'E',  'E',  'E']\n",
    "])\n",
    "\n",
    "label = np.array([\n",
    "    [('a','s'), ('b','s'), (),     (),        ()],\n",
    "    [(),        (),        (),     (),        ()],\n",
    "    [('s',),    ('s',),    ('s',), ('s',),    ('s',)],\n",
    "    [('s',),    ('s',),    ('s',), ('s',),    ('s',)],\n",
    "    [('s',),    ('s',),    (),     ('s',),    ('s',)],\n",
    "    [('s',),    ('a','s'), ('s',), ('b','s'), ('s',)]\n",
    "],dtype=np.object)\n",
    "\n",
    "# discount = 0.999999\n",
    "# discountB = 0.9999\n",
    "# discountB = 0.99\n",
    "reward = np.zeros(shape)\n",
    "# reward[3,0] = 1-discountB\n",
    "\n",
    "grid_mdp = GridMDP(shape=shape,structure=structure,reward=reward,label=label,figsize=6,robust=True)  # Use figsize=4 for smaller figures\n",
    "grid_mdp.plot()\n",
    "# Construct the product MDP\n",
    "csrl = ControlSynthesis(grid_mdp,oa)"
   ]
  },
  {
   "cell_type": "code",
   "execution_count": 10,
   "metadata": {
    "execution": {
     "iopub.execute_input": "2020-08-11T19:49:59.208141Z",
     "iopub.status.busy": "2020-08-11T19:49:59.208141Z",
     "iopub.status.idle": "2020-08-11T19:49:59.216120Z",
     "shell.execute_reply": "2020-08-11T19:49:59.215122Z",
     "shell.execute_reply.started": "2020-08-11T19:49:59.208141Z"
    }
   },
   "outputs": [
    {
     "data": {
      "text/plain": [
       "{'oa_type': 'dra',\n",
       " 'q0': 0,\n",
       " 'delta': [{(): 1,\n",
       "   ('a',): 1,\n",
       "   ('b',): 1,\n",
       "   ('s',): 0,\n",
       "   ('a', 'b'): 1,\n",
       "   ('a', 's'): 1,\n",
       "   ('b', 's'): 0,\n",
       "   ('a', 'b', 's'): 1},\n",
       "  {(): 1,\n",
       "   ('a',): 1,\n",
       "   ('b',): 1,\n",
       "   ('s',): 1,\n",
       "   ('a', 'b'): 1,\n",
       "   ('a', 's'): 1,\n",
       "   ('b', 's'): 0,\n",
       "   ('a', 'b', 's'): 0},\n",
       "  {(): 2,\n",
       "   ('a',): 2,\n",
       "   ('b',): 2,\n",
       "   ('s',): 2,\n",
       "   ('a', 'b'): 2,\n",
       "   ('a', 's'): 2,\n",
       "   ('b', 's'): 2,\n",
       "   ('a', 'b', 's'): 2}],\n",
       " 'acc': [{(): [False],\n",
       "   ('a',): [False],\n",
       "   ('b',): [False],\n",
       "   ('s',): [None],\n",
       "   ('a', 'b'): [False],\n",
       "   ('a', 's'): [True],\n",
       "   ('b', 's'): [None],\n",
       "   ('a', 'b', 's'): [True]},\n",
       "  {(): [False],\n",
       "   ('a',): [False],\n",
       "   ('b',): [False],\n",
       "   ('s',): [None],\n",
       "   ('a', 'b'): [False],\n",
       "   ('a', 's'): [None],\n",
       "   ('b', 's'): [None],\n",
       "   ('a', 'b', 's'): [True]},\n",
       "  {(): [None],\n",
       "   ('a',): [None],\n",
       "   ('b',): [None],\n",
       "   ('s',): [None],\n",
       "   ('a', 'b'): [None],\n",
       "   ('a', 's'): [None],\n",
       "   ('b', 's'): [None],\n",
       "   ('a', 'b', 's'): [None]}],\n",
       " 'shape': (1, 3),\n",
       " 'spot_oa': None,\n",
       " 'eps': [[], [], []]}"
      ]
     },
     "execution_count": 10,
     "metadata": {},
     "output_type": "execute_result"
    }
   ],
   "source": [
    "oa.__dict__"
   ]
  },
  {
   "cell_type": "code",
   "execution_count": 11,
   "metadata": {
    "execution": {
     "iopub.execute_input": "2020-08-11T19:49:59.217119Z",
     "iopub.status.busy": "2020-08-11T19:49:59.216120Z",
     "iopub.status.idle": "2020-08-11T20:10:23.649405Z",
     "shell.execute_reply": "2020-08-11T20:10:23.649405Z",
     "shell.execute_reply.started": "2020-08-11T19:49:59.217119Z"
    }
   },
   "outputs": [],
   "source": [
    "value,stats = csrl.shapley(T=2**20)"
   ]
  },
  {
   "cell_type": "code",
   "execution_count": 12,
   "metadata": {
    "execution": {
     "iopub.execute_input": "2020-08-11T20:10:23.650376Z",
     "iopub.status.busy": "2020-08-11T20:10:23.650376Z",
     "iopub.status.idle": "2020-08-11T20:10:23.912675Z",
     "shell.execute_reply": "2020-08-11T20:10:23.912675Z",
     "shell.execute_reply.started": "2020-08-11T20:10:23.650376Z"
    }
   },
   "outputs": [
    {
     "data": {
      "application/vnd.jupyter.widget-view+json": {
       "model_id": "8b7c0029a2ea4f879489bba4d1b4f4b7",
       "version_major": 2,
       "version_minor": 0
      },
      "text/plain": [
       "interactive(children=(IntSlider(value=0, description='i', max=0), IntSlider(value=0, description='q', max=2), …"
      ]
     },
     "metadata": {},
     "output_type": "display_data"
    }
   ],
   "source": [
    "policy, policy_ = csrl.get_greedy_policies(value)\n",
    "csrl.plot(policy=policy,policy_=policy_)"
   ]
  },
  {
   "cell_type": "code",
   "execution_count": 13,
   "metadata": {
    "execution": {
     "iopub.execute_input": "2020-08-11T20:10:23.913672Z",
     "iopub.status.busy": "2020-08-11T20:10:23.913672Z",
     "iopub.status.idle": "2020-08-11T20:10:24.265757Z",
     "shell.execute_reply": "2020-08-11T20:10:24.265757Z",
     "shell.execute_reply.started": "2020-08-11T20:10:23.913672Z"
    }
   },
   "outputs": [
    {
     "data": {
      "application/vnd.jupyter.widget-view+json": {
       "model_id": "737a1d9d5334489f84642500d2e5e5ea",
       "version_major": 2,
       "version_minor": 0
      },
      "text/plain": [
       "interactive(children=(IntSlider(value=0, description='i', max=0), IntSlider(value=0, description='q', max=2), …"
      ]
     },
     "metadata": {},
     "output_type": "display_data"
    }
   ],
   "source": [
    "csrl.plot(value)"
   ]
  },
  {
   "cell_type": "code",
   "execution_count": 14,
   "metadata": {
    "execution": {
     "iopub.execute_input": "2020-08-11T20:13:41.151804Z",
     "iopub.status.busy": "2020-08-11T20:13:41.151804Z",
     "iopub.status.idle": "2020-08-11T20:13:41.157788Z",
     "shell.execute_reply": "2020-08-11T20:13:41.157788Z",
     "shell.execute_reply.started": "2020-08-11T20:13:41.151804Z"
    }
   },
   "outputs": [],
   "source": [
    "np.save('robust_value.npy',value)"
   ]
  }
 ],
 "metadata": {
  "kernelspec": {
   "display_name": "Python 3",
   "language": "python",
   "name": "python3"
  },
  "language_info": {
   "codemirror_mode": {
    "name": "ipython",
    "version": 3
   },
   "file_extension": ".py",
   "mimetype": "text/x-python",
   "name": "python",
   "nbconvert_exporter": "python",
   "pygments_lexer": "ipython3",
   "version": "3.8.3"
  },
  "widgets": {
   "application/vnd.jupyter.widget-state+json": {
    "state": {
     "0b90db83169d458bbc2eee2ac37b9257": {
      "model_module": "@jupyter-widgets/controls",
      "model_module_version": "1.5.0",
      "model_name": "IntSliderModel",
      "state": {
       "description": "i",
       "layout": "IPY_MODEL_b22bb90c06b14962bc7479d2e5678a70",
       "max": 0,
       "style": "IPY_MODEL_5e38cdfc93154dbe97ae99b5d07212a7"
      }
     },
     "10f58b0252064a48b0f2ace97ca99bfc": {
      "model_module": "@jupyter-widgets/base",
      "model_module_version": "1.2.0",
      "model_name": "LayoutModel",
      "state": {}
     },
     "232f7edb31254f2d8cb54eddb1492ed7": {
      "model_module": "@jupyter-widgets/controls",
      "model_module_version": "1.5.0",
      "model_name": "SliderStyleModel",
      "state": {
       "description_width": ""
      }
     },
     "26eeec2a92144b1c946c505f64907afc": {
      "model_module": "@jupyter-widgets/base",
      "model_module_version": "1.2.0",
      "model_name": "LayoutModel",
      "state": {}
     },
     "2dd05955239f4e88b87b5b029df34a32": {
      "model_module": "@jupyter-widgets/output",
      "model_module_version": "1.0.0",
      "model_name": "OutputModel",
      "state": {
       "layout": "IPY_MODEL_881029045c6d46ea95ea0f46d625f23c",
       "outputs": [
        {
         "data": {
          "image/png": "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\n",
          "text/plain": "<Figure size 432x432 with 1 Axes>"
         },
         "metadata": {
          "needs_background": "light"
         },
         "output_type": "display_data"
        }
       ]
      }
     },
     "2e30a0ef22b94081afac6a1b78f2938b": {
      "model_module": "@jupyter-widgets/controls",
      "model_module_version": "1.5.0",
      "model_name": "SliderStyleModel",
      "state": {
       "description_width": ""
      }
     },
     "2f9ff7e11d794538a6c28b2462169f28": {
      "model_module": "@jupyter-widgets/output",
      "model_module_version": "1.0.0",
      "model_name": "OutputModel",
      "state": {
       "layout": "IPY_MODEL_4a3c5e8ba7a447c5a34b37d8fb3d789c",
       "outputs": [
        {
         "data": {
          "image/png": "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\n",
          "text/plain": "<Figure size 432x432 with 1 Axes>"
         },
         "metadata": {
          "needs_background": "light"
         },
         "output_type": "display_data"
        }
       ]
      }
     },
     "2fca8dc13fee44da92af71382ffb27c5": {
      "model_module": "@jupyter-widgets/controls",
      "model_module_version": "1.5.0",
      "model_name": "IntSliderModel",
      "state": {
       "description": "i",
       "layout": "IPY_MODEL_942ff2b035ee4ababf2ea7ad48b5bd5b",
       "max": 0,
       "style": "IPY_MODEL_232f7edb31254f2d8cb54eddb1492ed7"
      }
     },
     "4164cc0ecdb7464484a1417b58058422": {
      "model_module": "@jupyter-widgets/controls",
      "model_module_version": "1.5.0",
      "model_name": "VBoxModel",
      "state": {
       "_dom_classes": [
        "widget-interact"
       ],
       "children": [
        "IPY_MODEL_bd92b49626aa486f864a99906b93cd13",
        "IPY_MODEL_7646bd7bc13a4477846781b724856609",
        "IPY_MODEL_8e98fb5c89db4f00a8024f0c51cff7e0"
       ],
       "layout": "IPY_MODEL_77b483eed71c42abbb5a01fd777e29a6"
      }
     },
     "4a3c5e8ba7a447c5a34b37d8fb3d789c": {
      "model_module": "@jupyter-widgets/base",
      "model_module_version": "1.2.0",
      "model_name": "LayoutModel",
      "state": {}
     },
     "4eeaf092fbe845a6a4a59faff23765a1": {
      "model_module": "@jupyter-widgets/base",
      "model_module_version": "1.2.0",
      "model_name": "LayoutModel",
      "state": {}
     },
     "513e5f8873cc40ceacfdb7f6f526739f": {
      "model_module": "@jupyter-widgets/base",
      "model_module_version": "1.2.0",
      "model_name": "LayoutModel",
      "state": {}
     },
     "5bd1cc430464468ea753170a0fdbd5c7": {
      "model_module": "@jupyter-widgets/controls",
      "model_module_version": "1.5.0",
      "model_name": "SliderStyleModel",
      "state": {
       "description_width": ""
      }
     },
     "5ce73e2d3d1f4ba98414aa184948a46b": {
      "model_module": "@jupyter-widgets/base",
      "model_module_version": "1.2.0",
      "model_name": "LayoutModel",
      "state": {}
     },
     "5e38cdfc93154dbe97ae99b5d07212a7": {
      "model_module": "@jupyter-widgets/controls",
      "model_module_version": "1.5.0",
      "model_name": "SliderStyleModel",
      "state": {
       "description_width": ""
      }
     },
     "65544c49354b41e4b0e2cc6005055a30": {
      "model_module": "@jupyter-widgets/base",
      "model_module_version": "1.2.0",
      "model_name": "LayoutModel",
      "state": {}
     },
     "6df2e3d5d47a4b8db9471d29d6f1a466": {
      "model_module": "@jupyter-widgets/controls",
      "model_module_version": "1.5.0",
      "model_name": "SliderStyleModel",
      "state": {
       "description_width": ""
      }
     },
     "737a1d9d5334489f84642500d2e5e5ea": {
      "model_module": "@jupyter-widgets/controls",
      "model_module_version": "1.5.0",
      "model_name": "VBoxModel",
      "state": {
       "_dom_classes": [
        "widget-interact"
       ],
       "children": [
        "IPY_MODEL_e80627da904940529c9c0129793dbdfc",
        "IPY_MODEL_f09c75d32b3b4e13bcc3d140f12b2c70",
        "IPY_MODEL_2dd05955239f4e88b87b5b029df34a32"
       ],
       "layout": "IPY_MODEL_bee4e23629b641c89ed9fb7418c2d121"
      }
     },
     "74dbb902aff44d6fbd9550288d64bcd8": {
      "model_module": "@jupyter-widgets/output",
      "model_module_version": "1.0.0",
      "model_name": "OutputModel",
      "state": {
       "layout": "IPY_MODEL_10f58b0252064a48b0f2ace97ca99bfc",
       "outputs": [
        {
         "data": {
          "image/png": "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\n",
          "text/plain": "<Figure size 432x432 with 1 Axes>"
         },
         "metadata": {
          "needs_background": "light"
         },
         "output_type": "display_data"
        }
       ]
      }
     },
     "7646bd7bc13a4477846781b724856609": {
      "model_module": "@jupyter-widgets/controls",
      "model_module_version": "1.5.0",
      "model_name": "IntSliderModel",
      "state": {
       "description": "q",
       "layout": "IPY_MODEL_5ce73e2d3d1f4ba98414aa184948a46b",
       "max": 1,
       "style": "IPY_MODEL_5bd1cc430464468ea753170a0fdbd5c7"
      }
     },
     "77b483eed71c42abbb5a01fd777e29a6": {
      "model_module": "@jupyter-widgets/base",
      "model_module_version": "1.2.0",
      "model_name": "LayoutModel",
      "state": {}
     },
     "881029045c6d46ea95ea0f46d625f23c": {
      "model_module": "@jupyter-widgets/base",
      "model_module_version": "1.2.0",
      "model_name": "LayoutModel",
      "state": {}
     },
     "8b7c0029a2ea4f879489bba4d1b4f4b7": {
      "model_module": "@jupyter-widgets/controls",
      "model_module_version": "1.5.0",
      "model_name": "VBoxModel",
      "state": {
       "_dom_classes": [
        "widget-interact"
       ],
       "children": [
        "IPY_MODEL_2fca8dc13fee44da92af71382ffb27c5",
        "IPY_MODEL_cff2c09c98f94b4db82c57f0b8617d3a",
        "IPY_MODEL_74dbb902aff44d6fbd9550288d64bcd8"
       ],
       "layout": "IPY_MODEL_dbcb622b6d38435581c7553509d41128"
      }
     },
     "8e98fb5c89db4f00a8024f0c51cff7e0": {
      "model_module": "@jupyter-widgets/output",
      "model_module_version": "1.0.0",
      "model_name": "OutputModel",
      "state": {
       "layout": "IPY_MODEL_26eeec2a92144b1c946c505f64907afc",
       "outputs": [
        {
         "data": {
          "image/png": "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\n",
          "text/plain": "<Figure size 432x432 with 1 Axes>"
         },
         "metadata": {
          "needs_background": "light"
         },
         "output_type": "display_data"
        }
       ]
      }
     },
     "942ff2b035ee4ababf2ea7ad48b5bd5b": {
      "model_module": "@jupyter-widgets/base",
      "model_module_version": "1.2.0",
      "model_name": "LayoutModel",
      "state": {}
     },
     "99061065c801484790efb5b52b6a3fc7": {
      "model_module": "@jupyter-widgets/controls",
      "model_module_version": "1.5.0",
      "model_name": "VBoxModel",
      "state": {
       "_dom_classes": [
        "widget-interact"
       ],
       "children": [
        "IPY_MODEL_0b90db83169d458bbc2eee2ac37b9257",
        "IPY_MODEL_de17c619e36942a7b899dbaecc5924f2",
        "IPY_MODEL_2f9ff7e11d794538a6c28b2462169f28"
       ],
       "layout": "IPY_MODEL_c3663d8216584b60929f5253a0990fec"
      }
     },
     "adb05b052c33462c85536c1eda9563cf": {
      "model_module": "@jupyter-widgets/base",
      "model_module_version": "1.2.0",
      "model_name": "LayoutModel",
      "state": {}
     },
     "b03ebe290705453592e4c80e8e0b235f": {
      "model_module": "@jupyter-widgets/controls",
      "model_module_version": "1.5.0",
      "model_name": "SliderStyleModel",
      "state": {
       "description_width": ""
      }
     },
     "b22bb90c06b14962bc7479d2e5678a70": {
      "model_module": "@jupyter-widgets/base",
      "model_module_version": "1.2.0",
      "model_name": "LayoutModel",
      "state": {}
     },
     "bd92b49626aa486f864a99906b93cd13": {
      "model_module": "@jupyter-widgets/controls",
      "model_module_version": "1.5.0",
      "model_name": "IntSliderModel",
      "state": {
       "description": "i",
       "layout": "IPY_MODEL_adb05b052c33462c85536c1eda9563cf",
       "max": 0,
       "style": "IPY_MODEL_f2a714fdc5a340cab913446d7a9d0f2a"
      }
     },
     "bee4e23629b641c89ed9fb7418c2d121": {
      "model_module": "@jupyter-widgets/base",
      "model_module_version": "1.2.0",
      "model_name": "LayoutModel",
      "state": {}
     },
     "c3663d8216584b60929f5253a0990fec": {
      "model_module": "@jupyter-widgets/base",
      "model_module_version": "1.2.0",
      "model_name": "LayoutModel",
      "state": {}
     },
     "cff2c09c98f94b4db82c57f0b8617d3a": {
      "model_module": "@jupyter-widgets/controls",
      "model_module_version": "1.5.0",
      "model_name": "IntSliderModel",
      "state": {
       "description": "q",
       "layout": "IPY_MODEL_4eeaf092fbe845a6a4a59faff23765a1",
       "max": 2,
       "style": "IPY_MODEL_ef75fe71e1bf4e16a704b59aeddc76a0"
      }
     },
     "dbcb622b6d38435581c7553509d41128": {
      "model_module": "@jupyter-widgets/base",
      "model_module_version": "1.2.0",
      "model_name": "LayoutModel",
      "state": {}
     },
     "de17c619e36942a7b899dbaecc5924f2": {
      "model_module": "@jupyter-widgets/controls",
      "model_module_version": "1.5.0",
      "model_name": "IntSliderModel",
      "state": {
       "description": "q",
       "layout": "IPY_MODEL_513e5f8873cc40ceacfdb7f6f526739f",
       "max": 1,
       "style": "IPY_MODEL_2e30a0ef22b94081afac6a1b78f2938b"
      }
     },
     "e80627da904940529c9c0129793dbdfc": {
      "model_module": "@jupyter-widgets/controls",
      "model_module_version": "1.5.0",
      "model_name": "IntSliderModel",
      "state": {
       "description": "i",
       "layout": "IPY_MODEL_f7727fd3e1594223bb57926e1264d0cc",
       "max": 0,
       "style": "IPY_MODEL_6df2e3d5d47a4b8db9471d29d6f1a466"
      }
     },
     "ef75fe71e1bf4e16a704b59aeddc76a0": {
      "model_module": "@jupyter-widgets/controls",
      "model_module_version": "1.5.0",
      "model_name": "SliderStyleModel",
      "state": {
       "description_width": ""
      }
     },
     "f09c75d32b3b4e13bcc3d140f12b2c70": {
      "model_module": "@jupyter-widgets/controls",
      "model_module_version": "1.5.0",
      "model_name": "IntSliderModel",
      "state": {
       "description": "q",
       "layout": "IPY_MODEL_65544c49354b41e4b0e2cc6005055a30",
       "max": 2,
       "style": "IPY_MODEL_b03ebe290705453592e4c80e8e0b235f"
      }
     },
     "f2a714fdc5a340cab913446d7a9d0f2a": {
      "model_module": "@jupyter-widgets/controls",
      "model_module_version": "1.5.0",
      "model_name": "SliderStyleModel",
      "state": {
       "description_width": ""
      }
     },
     "f7727fd3e1594223bb57926e1264d0cc": {
      "model_module": "@jupyter-widgets/base",
      "model_module_version": "1.2.0",
      "model_name": "LayoutModel",
      "state": {}
     }
    },
    "version_major": 2,
    "version_minor": 0
   }
  }
 },
 "nbformat": 4,
 "nbformat_minor": 4
}
