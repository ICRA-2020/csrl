{
 "cells": [
  {
   "cell_type": "code",
   "execution_count": 1,
   "metadata": {
    "execution": {
     "iopub.execute_input": "2020-08-15T19:41:42.974341Z",
     "iopub.status.busy": "2020-08-15T19:41:42.974341Z",
     "iopub.status.idle": "2020-08-15T19:41:44.638498Z",
     "shell.execute_reply": "2020-08-15T19:41:44.638498Z",
     "shell.execute_reply.started": "2020-08-15T19:41:42.974341Z"
    }
   },
   "outputs": [
    {
     "name": "stdout",
     "output_type": "stream",
     "text": [
      "Number of Omega-automaton states (including the trap state): 2\n"
     ]
    }
   ],
   "source": [
    "%matplotlib inline\n",
    "from csrl.mdp import GridMDP\n",
    "from csrl.oa import OmegaAutomaton\n",
    "from csrl import ControlSynthesis\n",
    "import numpy as np\n",
    "\n",
    "ltl = 'F G a'\n",
    "# Translate the LTL formula to an LDBA\n",
    "oa = OmegaAutomaton(ltl,oa_type='dra')\n",
    "print('Number of Omega-automaton states (including the trap state):',oa.shape[1])\n",
    "# display(oa)\n",
    "\n",
    "\n",
    "# MDP Description\n",
    "shape = (5,4)\n",
    "# E: Empty, T: Trap, B: Obstacle\n",
    "structure = np.array([\n",
    "    ['E',  'E',  'E',  'E'],\n",
    "    ['E',  'E',  'E',  'T'],\n",
    "    ['B',  'E',  'E',  'E'],\n",
    "    ['E',  'E',  'B',  'E'],\n",
    "    ['B',  'T',  'E',  'E']\n",
    "])\n",
    "\n",
    "label = np.array([\n",
    "    [(),       ('a',),     (),    ()],\n",
    "    [(),       (),     (),    ()],\n",
    "    [(),       (),     (),    ()],\n",
    "    [('a',),   (),     (),    ()],\n",
    "    [(),       (),     (),    ()]\n",
    "],dtype=np.object)\n",
    "\n",
    "reward = np.zeros(shape)\n",
    "\n",
    "grid_mdp = GridMDP(shape=shape,structure=structure,reward=reward,label=label,figsize=6,robust=True)  # Use figsize=4 for smaller figures\n",
    "# grid_mdp.plot()\n",
    "# Construct the product MDP\n",
    "csrl = ControlSynthesis(grid_mdp,oa)"
   ]
  },
  {
   "cell_type": "code",
   "execution_count": 2,
   "metadata": {
    "execution": {
     "iopub.execute_input": "2020-08-15T19:41:44.639495Z",
     "iopub.status.busy": "2020-08-15T19:41:44.639495Z",
     "iopub.status.idle": "2020-08-15T19:41:44.642489Z",
     "shell.execute_reply": "2020-08-15T19:41:44.642489Z",
     "shell.execute_reply.started": "2020-08-15T19:41:44.639495Z"
    }
   },
   "outputs": [],
   "source": [
    "# oa.__dict__"
   ]
  },
  {
   "cell_type": "code",
   "execution_count": 3,
   "metadata": {
    "execution": {
     "iopub.execute_input": "2020-08-15T19:41:44.644482Z",
     "iopub.status.busy": "2020-08-15T19:41:44.644482Z",
     "iopub.status.idle": "2020-08-15T19:41:44.659442Z",
     "shell.execute_reply": "2020-08-15T19:41:44.659442Z",
     "shell.execute_reply.started": "2020-08-15T19:41:44.644482Z"
    }
   },
   "outputs": [],
   "source": [
    "# Q=csrl.minimax_q(T=2**5,K=2**10)\n",
    "# value = np.max(np.min(Q,axis=-1),axis=-1)\n",
    "# policy, policy_ = csrl.get_greedy_policies(value)\n",
    "# csrl.plot(value=value,policy=policy,policy_=policy_)"
   ]
  },
  {
   "cell_type": "code",
   "execution_count": 4,
   "metadata": {
    "execution": {
     "iopub.execute_input": "2020-08-15T19:41:44.661439Z",
     "iopub.status.busy": "2020-08-15T19:41:44.661439Z",
     "iopub.status.idle": "2020-08-15T19:41:47.251451Z",
     "shell.execute_reply": "2020-08-15T19:41:47.251451Z",
     "shell.execute_reply.started": "2020-08-15T19:41:44.661439Z"
    }
   },
   "outputs": [
    {
     "name": "stdout",
     "output_type": "stream",
     "text": [
      "Number of Omega-automaton states (including the trap state): 3\n"
     ]
    },
    {
     "data": {
      "text/plain": [
       "<csrl.oa.OmegaAutomaton at 0x1abeb575df0>"
      ]
     },
     "metadata": {},
     "output_type": "display_data"
    },
    {
     "data": {
      "image/png": "[encoded data removed]",
      "text/plain": [
       "<Figure size 432x432 with 1 Axes>"
      ]
     },
     "metadata": {
      "needs_background": "light"
     },
     "output_type": "display_data"
    }
   ],
   "source": [
    "# Specification\n",
    "ltl = 'F G s & G F a & G F b'\n",
    "oa = OmegaAutomaton(ltl,oa_type='dra')\n",
    "print('Number of Omega-automaton states (including the trap state):',oa.shape[1])\n",
    "display(oa)\n",
    "\n",
    "# MDP Description\n",
    "shape = (6,5)\n",
    "# E: Empty, T: Trap, B: Obstacle\n",
    "structure = np.array([\n",
    "    ['E',  'E',  'B',  'E',  'E'],\n",
    "    ['E',  'E',  'B',  'E',  'E'],\n",
    "    ['E',  'E',  'E',  'E',  'E'],\n",
    "    ['E',  'E',  'E',  'E',  'E'],\n",
    "    ['E',  'E',  'E',  'E',  'E'],\n",
    "    ['E',  'E',  'E',  'E',  'E']\n",
    "])\n",
    "\n",
    "label = np.array([\n",
    "    [('a','s'), ('b','s'), (),     (),        ()],\n",
    "    [(),        (),        (),     (),        ()],\n",
    "    [('s',),    ('s',),    ('s',), ('s',),    ('s',)],\n",
    "    [('s',),    ('s',),    ('s',), ('s',),    ('s',)],\n",
    "    [('s',),    ('s',),    (),     ('s',),    ('s',)],\n",
    "    [('s',),    ('a','s'), ('s',), ('b','s'), ('s',)]\n",
    "],dtype=np.object)\n",
    "\n",
    "reward = np.zeros(shape)\n",
    "\n",
    "grid_mdp = GridMDP(shape=shape,structure=structure,reward=reward,label=label,figsize=6,robust=True)  # Use figsize=4 for smaller figures\n",
    "grid_mdp.plot()\n",
    "# Construct the product MDP\n",
    "csrl = ControlSynthesis(grid_mdp,oa)"
   ]
  },
  {
   "cell_type": "code",
   "execution_count": 5,
   "metadata": {
    "execution": {
     "iopub.execute_input": "2020-08-15T19:41:47.252449Z",
     "iopub.status.busy": "2020-08-15T19:41:47.252449Z",
     "iopub.status.idle": "2020-08-15T19:41:47.260427Z",
     "shell.execute_reply": "2020-08-15T19:41:47.259429Z",
     "shell.execute_reply.started": "2020-08-15T19:41:47.252449Z"
    }
   },
   "outputs": [
    {
     "data": {
      "text/plain": [
       "{'oa_type': 'dra',\n",
       " 'q0': 0,\n",
       " 'delta': [{(): 1,\n",
       "   ('a',): 1,\n",
       "   ('b',): 1,\n",
       "   ('s',): 0,\n",
       "   ('a', 'b'): 1,\n",
       "   ('a', 's'): 1,\n",
       "   ('b', 's'): 0,\n",
       "   ('a', 'b', 's'): 1},\n",
       "  {(): 1,\n",
       "   ('a',): 1,\n",
       "   ('b',): 1,\n",
       "   ('s',): 1,\n",
       "   ('a', 'b'): 1,\n",
       "   ('a', 's'): 1,\n",
       "   ('b', 's'): 0,\n",
       "   ('a', 'b', 's'): 0},\n",
       "  {(): 2,\n",
       "   ('a',): 2,\n",
       "   ('b',): 2,\n",
       "   ('s',): 2,\n",
       "   ('a', 'b'): 2,\n",
       "   ('a', 's'): 2,\n",
       "   ('b', 's'): 2,\n",
       "   ('a', 'b', 's'): 2}],\n",
       " 'acc': [{(): [False],\n",
       "   ('a',): [False],\n",
       "   ('b',): [False],\n",
       "   ('s',): [None],\n",
       "   ('a', 'b'): [False],\n",
       "   ('a', 's'): [True],\n",
       "   ('b', 's'): [None],\n",
       "   ('a', 'b', 's'): [True]},\n",
       "  {(): [False],\n",
       "   ('a',): [False],\n",
       "   ('b',): [False],\n",
       "   ('s',): [None],\n",
       "   ('a', 'b'): [False],\n",
       "   ('a', 's'): [None],\n",
       "   ('b', 's'): [None],\n",
       "   ('a', 'b', 's'): [True]},\n",
       "  {(): [None],\n",
       "   ('a',): [None],\n",
       "   ('b',): [None],\n",
       "   ('s',): [None],\n",
       "   ('a', 'b'): [None],\n",
       "   ('a', 's'): [None],\n",
       "   ('b', 's'): [None],\n",
       "   ('a', 'b', 's'): [None]}],\n",
       " 'shape': (1, 3),\n",
       " 'spot_oa': None,\n",
       " 'eps': [[], [], []]}"
      ]
     },
     "execution_count": 5,
     "metadata": {},
     "output_type": "execute_result"
    }
   ],
   "source": [
    "oa.__dict__"
   ]
  },
  {
   "cell_type": "code",
   "execution_count": null,
   "metadata": {
    "execution": {
     "iopub.execute_input": "2020-08-15T19:41:47.262421Z",
     "iopub.status.busy": "2020-08-15T19:41:47.261425Z"
    }
   },
   "outputs": [],
   "source": [
    "Q=csrl.minimax_q(T=2**8,K=2**13)\n",
    "value = np.max(np.min(Q,axis=-1),axis=-1)\n",
    "csrl.plot(value)"
   ]
  },
  {
   "cell_type": "code",
   "execution_count": null,
   "metadata": {},
   "outputs": [],
   "source": [
    "policy, policy_ = csrl.get_greedy_policies(value)\n",
    "csrl.plot(policy=policy,policy_=policy_)"
   ]
  }
 ],
 "metadata": {
  "kernelspec": {
   "display_name": "Python 3",
   "language": "python",
   "name": "python3"
  },
  "language_info": {
   "codemirror_mode": {
    "name": "ipython",
    "version": 3
   },
   "file_extension": ".py",
   "mimetype": "text/x-python",
   "name": "python",
   "nbconvert_exporter": "python",
   "pygments_lexer": "ipython3",
   "version": "3.8.3"
  },
  "widgets": {
   "application/vnd.jupyter.widget-state+json": {
    "state": {},
    "version_major": 2,
    "version_minor": 0
   }
  }
 },
 "nbformat": 4,
 "nbformat_minor": 4
}
